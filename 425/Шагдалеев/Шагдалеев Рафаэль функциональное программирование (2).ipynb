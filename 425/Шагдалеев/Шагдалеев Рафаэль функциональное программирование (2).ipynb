{
 "cells": [
  {
   "cell_type": "markdown",
   "metadata": {},
   "source": [
    "# Решить уравнение методом полного дифференциала\n",
    "\n",
    "$$ y-xy^{'}=3(1+x^2y^{'}) $$"
   ]
  },
  {
   "cell_type": "markdown",
   "metadata": {},
   "source": [
    "Честно говоря, я не совсем понял как делать это задание, так как оно не решается методом полного дифференциала(условия не выполняются).\n",
    "\n",
    "Я понял это задание так: нужно найти значение $у$ при любом значении $х$, т.е. есть решение дифференциального уравнения, задаем через него у, из уравнения вычисляем $y^{'}$ нужно найти такое $С$, чтобы при вычитании из правой части левую мы получали 0 с погрешностью $Е$, тем самым можно найти значение $у$"
   ]
  },
  {
   "cell_type": "code",
   "execution_count": 9,
   "metadata": {},
   "outputs": [],
   "source": [
    "import numpy as np\n",
    "import matplotlib.pyplot as plt\n",
    "import scipy as sp"
   ]
  },
  {
   "cell_type": "code",
   "execution_count": 10,
   "metadata": {},
   "outputs": [],
   "source": [
    "E=10**-12"
   ]
  },
  {
   "cell_type": "code",
   "execution_count": 11,
   "metadata": {},
   "outputs": [],
   "source": [
    "def f(x,C,h):\n",
    "    def dy(x,C): #y'\n",
    "        return (ydiff(x,C)-3)/(3*x**2+x)\n",
    "    def ydiff(x,C): #y решеный с помощью диф. уравнения\n",
    "        return 3*(C*x+3*x+1)/(3*x+1)\n",
    "    def perdipari(x,C): # левая часть уравнения\n",
    "        return ydiff(x,C)-x*dy(x,ydiff(x,C))\n",
    "    def vtor(x,C): #правая часть уравнения\n",
    "        return 3*(1+np.power(x,2)*dy(x,ydiff(x,C)))\n",
    "    \n",
    "    \n",
    "    while(abs(vtor(x,C)-perdipari(x,C))>E):\n",
    "        if((vtor(x,C)-perdipari(x,C)<E)):\n",
    "            h=h/2\n",
    "        if((vtor(x,C)-perdipari(x,C)>E)):\n",
    "            C=C+h\n",
    "    return C,ydiff(x,C),dy(x,C)"
   ]
  },
  {
   "cell_type": "code",
   "execution_count": 12,
   "metadata": {},
   "outputs": [
    {
     "name": "stdout",
     "output_type": "stream",
     "text": [
      "(48.0000000000004, 48.00000000000037, 0.5625000000000047)\n",
      "Константа С= 48.0000000000004\n",
      "Значение y= 48.00000000000037\n",
      "При x= 5\n"
     ]
    }
   ],
   "source": [
    "t=5\n",
    "Coup=20\n",
    "honda=0.1\n",
    "print(f(t,Coup,honda))\n",
    "Co,y,j=f(t,Coup,honda)\n",
    "print(\"Константа С=\",Co)\n",
    "print(\"Значение y=\",y)\n",
    "print(\"При x=\",t)"
   ]
  },
  {
   "cell_type": "code",
   "execution_count": 13,
   "metadata": {},
   "outputs": [
    {
     "name": "stdout",
     "output_type": "stream",
     "text": [
      "Значение разности правой части и левой функции= -7.105427357601002e-15\n"
     ]
    }
   ],
   "source": [
    "tt=y-t*j-3*(1+np.power(t,2)*j)\n",
    "print(\"Значение разности правой части и левой функции=\",tt)"
   ]
  }
 ],
 "metadata": {
  "kernelspec": {
   "display_name": "Python 3",
   "language": "python",
   "name": "python3"
  },
  "language_info": {
   "codemirror_mode": {
    "name": "ipython",
    "version": 3
   },
   "file_extension": ".py",
   "mimetype": "text/x-python",
   "name": "python",
   "nbconvert_exporter": "python",
   "pygments_lexer": "ipython3",
   "version": "3.8.5"
  }
 },
 "nbformat": 4,
 "nbformat_minor": 4
}
